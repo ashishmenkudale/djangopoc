{
 "cells": [
  {
   "cell_type": "code",
   "execution_count": 1,
   "metadata": {},
   "outputs": [],
   "source": [
    "#import libraries\n",
    "import pandas as pd\n",
    "import numpy as np\n",
    "from sklearn.model_selection import train_test_split\n",
    "from sklearn.metrics import accuracy_score, confusion_matrix\n",
    "from imblearn.over_sampling import SMOTE\n",
    "from sklearn.preprocessing import MinMaxScaler\n",
    "import warnings\n",
    "from collections import Counter\n",
    "warnings.filterwarnings('ignore')\n",
    "import seaborn as sns\n",
    "import matplotlib.pyplot as plt\n",
    "import tensorflow\n",
    "from tensorflow import keras\n",
    "from tensorflow.keras import Sequential\n",
    "from tensorflow.keras.layers import Dense"
   ]
  },
  {
   "cell_type": "code",
   "execution_count": 3,
   "metadata": {},
   "outputs": [
    {
     "data": {
      "text/plain": [
       "Counter({'N': 148, 'Y': 332})"
      ]
     },
     "execution_count": 3,
     "metadata": {},
     "output_type": "execute_result"
    }
   ],
   "source": [
    "df = pd.read_csv('../data/bankloan.csv')\n",
    "df = df.dropna()\n",
    "df = df.drop('Loan_ID', axis = 1)\n",
    "df['LoanAmount'] = (df['LoanAmount'] * 1000).astype('int')\n",
    "Counter(df['Loan_Status'])"
   ]
  },
  {
   "cell_type": "code",
   "execution_count": 4,
   "metadata": {},
   "outputs": [],
   "source": [
    "pre_y = df['Loan_Status']\n",
    "pre_x = df.drop('Loan_Status', axis = 1)\n",
    "dm_x = pd.get_dummies(pre_x)\n",
    "dm_y = pre_y.map({'Y':1, 'N':0})"
   ]
  },
  {
   "cell_type": "code",
   "execution_count": 5,
   "metadata": {},
   "outputs": [],
   "source": [
    "smote = SMOTE(sampling_strategy = 'minority')\n",
    "x1, y = smote.fit_resample(dm_x, dm_y)\n",
    "sc = MinMaxScaler()\n",
    "x = sc.fit_transform(x1)"
   ]
  },
  {
   "cell_type": "code",
   "execution_count": 6,
   "metadata": {},
   "outputs": [],
   "source": [
    "X_train, X_test, y_train, y_test = train_test_split(x , y, test_size = 0.2, random_state =42, shuffle = True)"
   ]
  },
  {
   "cell_type": "code",
   "execution_count": 7,
   "metadata": {},
   "outputs": [
    {
     "name": "stdout",
     "output_type": "stream",
     "text": [
      "17/17 [==============================] - 0s 1ms/step - loss: 0.2335 - accuracy: 0.8983\n"
     ]
    },
    {
     "data": {
      "text/plain": [
       "[0.23350711166858673, 0.8983050584793091]"
      ]
     },
     "execution_count": 7,
     "metadata": {},
     "output_type": "execute_result"
    }
   ],
   "source": [
    "classifier = Sequential()\n",
    "classifier.add(Dense(400, activation = 'relu', kernel_initializer='random_normal', input_dim=X_test.shape[1]))\n",
    "classifier.add(Dense(800, activation = 'relu', kernel_initializer='random_normal'))\n",
    "classifier.add(Dense(20, activation = 'relu', kernel_initializer='random_normal'))\n",
    "classifier.add(Dense(1, activation = 'sigmoid', kernel_initializer='random_normal'))\n",
    "classifier.compile(optimizer = 'adam', loss='binary_crossentropy', metrics=['accuracy'])\n",
    "classifier.fit(X_train, y_train, batch_size = 20, epochs = 50, verbose=0)\n",
    "eval_model = classifier.evaluate(X_train, y_train)\n",
    "eval_model"
   ]
  },
  {
   "cell_type": "code",
   "execution_count": 8,
   "metadata": {},
   "outputs": [],
   "source": [
    "y_pred = classifier.predict(X_test)\n",
    "y_pred = (y_pred > 0.4)"
   ]
  },
  {
   "cell_type": "code",
   "execution_count": 9,
   "metadata": {},
   "outputs": [
    {
     "data": {
      "text/plain": [
       "[Text(0, 0.5, 'No'), Text(0, 1.5, 'Yes')]"
      ]
     },
     "execution_count": 9,
     "metadata": {},
     "output_type": "execute_result"
    },
    {
     "data": {
      "image/png": "[encoded data removed]",
      "text/plain": [
       "<Figure size 432x288 with 2 Axes>"
      ]
     },
     "metadata": {
      "needs_background": "light"
     },
     "output_type": "display_data"
    }
   ],
   "source": [
    "from sklearn.metrics import confusion_matrix\n",
    "cm = confusion_matrix(y_test, y_pred)\n",
    "ax = plt.subplot()\n",
    "sns.heatmap(cm, annot = True, ax=ax)\n",
    "\n",
    "ax.set_xlabel('predicted')\n",
    "ax.set_ylabel('actual')\n",
    "ax.set_title('confusion matrix')\n",
    "ax.xaxis.set_ticklabels(['No', 'Yes'])\n",
    "ax.yaxis.set_ticklabels(['No', 'Yes'])"
   ]
  },
  {
   "cell_type": "code",
   "execution_count": 10,
   "metadata": {},
   "outputs": [
    {
     "name": "stdout",
     "output_type": "stream",
     "text": [
      "WARNING:tensorflow:From c:\\users\\ashish\\documents\\data_science\\djangoapp\\djangoapp\\lib\\site-packages\\tensorflow\\python\\training\\tracking\\tracking.py:111: Model.state_updates (from tensorflow.python.keras.engine.training) is deprecated and will be removed in a future version.\n",
      "Instructions for updating:\n",
      "This property should not be used in TensorFlow 2.0, as updates are applied automatically.\n",
      "WARNING:tensorflow:From c:\\users\\ashish\\documents\\data_science\\djangoapp\\djangoapp\\lib\\site-packages\\tensorflow\\python\\training\\tracking\\tracking.py:111: Layer.updates (from tensorflow.python.keras.engine.base_layer) is deprecated and will be removed in a future version.\n",
      "Instructions for updating:\n",
      "This property should not be used in TensorFlow 2.0, as updates are applied automatically.\n",
      "INFO:tensorflow:Assets written to: ./rev00/assets\n"
     ]
    }
   ],
   "source": [
    "classifier.save('./rev00/')"
   ]
  },
  {
   "cell_type": "code",
   "execution_count": 11,
   "metadata": {
    "scrolled": true
   },
   "outputs": [
    {
     "name": "stdout",
     "output_type": "stream",
     "text": [
      "accuracy : 77.71\n",
      "accuracy : 80.72\n",
      "accuracy : 82.53\n",
      "accuracy : 79.52\n",
      "80.12 : 1.76\n"
     ]
    }
   ],
   "source": [
    "from sklearn.model_selection import StratifiedKFold\n",
    "kfold = StratifiedKFold(n_splits=4, shuffle = True, random_state = 42)\n",
    "cvscores = []\n",
    "for train, test in kfold.split(x, y):\n",
    "    \n",
    "    model = Sequential()\n",
    "    model.add(Dense(400, activation = 'relu', kernel_initializer='random_normal', input_dim=X_test.shape[1]))\n",
    "    model.add(Dense(800, activation = 'relu', kernel_initializer='random_normal'))\n",
    "    model.add(Dense(20, activation = 'relu', kernel_initializer='random_normal'))\n",
    "    model.add(Dense(1, activation = 'sigmoid', kernel_initializer='random_normal'))\n",
    "    \n",
    "    model.compile(optimizer = 'adam', loss='binary_crossentropy', metrics=['accuracy'])\n",
    "    model.fit(x[train], y[train], epochs = 100, verbose=0)\n",
    "    scores = model.evaluate(x[test], y[test], verbose =0)\n",
    "    \n",
    "    print(f\"{model.metrics_names[1]} : {round(scores[1]*100, 2)}\" )\n",
    "    \n",
    "    cvscores.append(round(scores[1]*100, 2))\n",
    "    \n",
    "print(f\"{round(np.mean(cvscores), 2)} : {round(np.std(cvscores), 2)}\" )"
   ]
  },
  {
   "cell_type": "code",
   "execution_count": 12,
   "metadata": {},
   "outputs": [],
   "source": [
    "reconstructed_model = tensorflow.keras.models.load_model(\"./rev00/\")"
   ]
  },
  {
   "cell_type": "code",
   "execution_count": null,
   "metadata": {},
   "outputs": [],
   "source": []
  },
  {
   "cell_type": "code",
   "execution_count": null,
   "metadata": {},
   "outputs": [],
   "source": []
  },
  {
   "cell_type": "code",
   "execution_count": null,
   "metadata": {},
   "outputs": [],
   "source": [
    "# #for neural\n",
    "# reconstructed_model = tensorflow.keras.models.load_model(\"./rev00/\")\n",
    "# test = pd.read_csv('../data/bankloan.csv')\n",
    "# test = test.dropna()\n",
    "# test = test.drop('Loan_ID', axis = 1)\n",
    "# test['LoanAmount'] = (test['LoanAmount'] * 1000).astype('int')\n",
    "\n",
    "# test_y = test['Loan_Status']\n",
    "# test_y = test_y.map({'Y':1, 'N':0})\n",
    "\n",
    "# test_x = test.drop('Loan_Status', axis = 1)\n",
    "\n",
    "# test_x = pd.get_dummies(test_x)\n",
    "# test_x.columns\n",
    "\n",
    "# sc = MinMaxScaler()\n",
    "# test_x = sc.fit_transform(test_x)\n",
    "\n",
    "# test_prediction = reconstructed_model.predict(test_x)\n",
    "# test_prediction = (test_prediction > 0.4)\n",
    "# #test_prediction\n",
    "# results = pd.DataFrame(test_prediction , columns= [\"status\"] )\n",
    "# results = results.replace({True:'approved', False:'Rejected'})"
   ]
  },
  {
   "cell_type": "code",
   "execution_count": null,
   "metadata": {},
   "outputs": [],
   "source": []
  },
  {
   "cell_type": "code",
   "execution_count": null,
   "metadata": {},
   "outputs": [],
   "source": [
    "#to be run to create pickles"
   ]
  },
  {
   "cell_type": "code",
   "execution_count": 131,
   "metadata": {},
   "outputs": [],
   "source": [
    "from sklearn.preprocessing import OneHotEncoder\n",
    "import pickle\n",
    "import joblib"
   ]
  },
  {
   "cell_type": "code",
   "execution_count": 132,
   "metadata": {},
   "outputs": [],
   "source": [
    "test = pd.read_csv('../data/bankloan.csv')\n",
    "test = test.dropna()\n",
    "test = test.drop('Loan_ID', axis = 1)\n",
    "test['LoanAmount'] = (test['LoanAmount'] * 1000).astype('int')"
   ]
  },
  {
   "cell_type": "code",
   "execution_count": 133,
   "metadata": {},
   "outputs": [],
   "source": [
    "test_y = test['Loan_Status']\n",
    "test_y = test_y.map({'Y':1, 'N':0})"
   ]
  },
  {
   "cell_type": "code",
   "execution_count": 134,
   "metadata": {},
   "outputs": [],
   "source": [
    "test_x = test.drop('Loan_Status', axis = 1)"
   ]
  },
  {
   "cell_type": "code",
   "execution_count": 135,
   "metadata": {},
   "outputs": [
    {
     "data": {
      "text/plain": [
       "OneHotEncoder(handle_unknown='ignore', sparse=False)"
      ]
     },
     "execution_count": 135,
     "metadata": {},
     "output_type": "execute_result"
    }
   ],
   "source": [
    "ohe= OneHotEncoder(handle_unknown='ignore', sparse=False)\n",
    "ohe.fit(test_x[['Gender','Married','Education','Self_Employed','Property_Area']])"
   ]
  },
  {
   "cell_type": "code",
   "execution_count": 136,
   "metadata": {
    "scrolled": true
   },
   "outputs": [],
   "source": [
    "test_encoded = pd.DataFrame(ohe.transform(test_x[['Gender','Married','Education','Self_Employed','Property_Area']]), \n",
    "                            columns = ['Gender_Female', 'Gender_Male', \\\n",
    "        'Married_No', 'Married_Yes', \\\n",
    "        'Education_Graduate', 'Education_Not Graduate', \\\n",
    "        'Self_Employed_No', 'Self_Employed_Yes', \\\n",
    "        'Property_Area_Rural', 'Property_Area_Semiurban', 'Property_Area_Urban'])"
   ]
  },
  {
   "cell_type": "code",
   "execution_count": 137,
   "metadata": {},
   "outputs": [],
   "source": [
    "test_x = test_x.reset_index(drop=True)\n",
    "test_x = pd.concat([test_x[['Dependents','ApplicantIncome','CoapplicantIncome','LoanAmount','Loan_Amount_Term','Credit_History']], \n",
    "                    test_encoded], axis = 1)"
   ]
  },
  {
   "cell_type": "code",
   "execution_count": 138,
   "metadata": {},
   "outputs": [],
   "source": [
    "sc = MinMaxScaler()\n",
    "test_x = scaler.fit_transform(test_x)"
   ]
  },
  {
   "cell_type": "code",
   "execution_count": 58,
   "metadata": {},
   "outputs": [],
   "source": [
    "with open(\"./rev01/ohe_rev00.sav\", \"wb\") as f: \n",
    "    pickle.dump(ohe, f)\n",
    "    \n",
    "scaler_filename = \"./rev01/scaler_rev00.sav\"\n",
    "joblib.dump(sc, scaler_filename)"
   ]
  },
  {
   "cell_type": "code",
   "execution_count": null,
   "metadata": {},
   "outputs": [],
   "source": []
  },
  {
   "cell_type": "code",
   "execution_count": null,
   "metadata": {},
   "outputs": [],
   "source": [
    "#treat as test"
   ]
  },
  {
   "cell_type": "code",
   "execution_count": 145,
   "metadata": {},
   "outputs": [],
   "source": [
    "test = pd.read_csv('../data/bankloan.csv')\n",
    "test = test.dropna()\n",
    "test = test.drop('Loan_ID', axis = 1)\n",
    "test['LoanAmount'] = (test['LoanAmount'] * 1000).astype('int')\n",
    "\n",
    "test_y = test['Loan_Status']\n",
    "test_y = test_y.map({'Y':1, 'N':0})\n",
    "\n",
    "test_x = test.drop('Loan_Status', axis = 1) #to be removed\n",
    "\n",
    "encoder = pickle.load(open(\"./rev01/ohe_rev00.sav\", 'rb'))\n",
    "encoded_data = encoder.transform(test_x[['Gender','Married','Education','Self_Employed','Property_Area']])\n",
    "\n",
    "encoded_df = pd.DataFrame(encoded_data, columns = ['Gender_Female', 'Gender_Male', \\\n",
    "        'Married_No', 'Married_Yes', \\\n",
    "        'Education_Graduate', 'Education_Not Graduate', \\\n",
    "        'Self_Employed_No', 'Self_Employed_Yes', \\\n",
    "        'Property_Area_Rural', 'Property_Area_Semiurban', 'Property_Area_Urban'])\n",
    "\n",
    "test_x = test_x.reset_index(drop=True)\n",
    "test_x = pd.concat([test_x[['Dependents','ApplicantIncome','CoapplicantIncome','LoanAmount','Loan_Amount_Term','Credit_History']], \n",
    "                    encoded_df], axis = 1)\n",
    "\n",
    "scaler_filename = \"./rev01/scaler_rev00.sav\"\n",
    "scaler = joblib.load(scaler_filename) \n",
    "test_x = scaler.fit_transform(test_x)"
   ]
  },
  {
   "cell_type": "code",
   "execution_count": 157,
   "metadata": {},
   "outputs": [],
   "source": [
    "# load the model from disk\n",
    "filename = './rev01/svm_rev00.sav'\n",
    "loaded_model = pickle.load(open(filename, 'rb'))\n",
    "y_pred = loaded_model.predict(test_x)"
   ]
  },
  {
   "cell_type": "code",
   "execution_count": 158,
   "metadata": {
    "scrolled": true
   },
   "outputs": [
    {
     "name": "stdout",
     "output_type": "stream",
     "text": [
      "0.8083333333333333\n"
     ]
    }
   ],
   "source": [
    "result = loaded_model.score(test_x, test_y)\n",
    "print(result)"
   ]
  },
  {
   "cell_type": "code",
   "execution_count": 160,
   "metadata": {},
   "outputs": [
    {
     "data": {
      "text/plain": [
       "1"
      ]
     },
     "execution_count": 160,
     "metadata": {},
     "output_type": "execute_result"
    }
   ],
   "source": [
    "y_pred[0]"
   ]
  },
  {
   "cell_type": "code",
   "execution_count": 14,
   "metadata": {
    "scrolled": true
   },
   "outputs": [],
   "source": []
  },
  {
   "cell_type": "code",
   "execution_count": null,
   "metadata": {},
   "outputs": [],
   "source": []
  },
  {
   "cell_type": "code",
   "execution_count": null,
   "metadata": {},
   "outputs": [],
   "source": []
  },
  {
   "cell_type": "code",
   "execution_count": 15,
   "metadata": {},
   "outputs": [],
   "source": [
    "from sklearn import svm"
   ]
  },
  {
   "cell_type": "code",
   "execution_count": 153,
   "metadata": {
    "scrolled": true
   },
   "outputs": [
    {
     "data": {
      "text/plain": [
       "SVC()"
      ]
     },
     "execution_count": 153,
     "metadata": {},
     "output_type": "execute_result"
    }
   ],
   "source": [
    "clf = svm.SVC()\n",
    "clf.fit(X_train, y_train) #X_test, y_test"
   ]
  },
  {
   "cell_type": "code",
   "execution_count": 154,
   "metadata": {},
   "outputs": [],
   "source": [
    "y_pred = clf.predict(X_test)"
   ]
  },
  {
   "cell_type": "code",
   "execution_count": 155,
   "metadata": {},
   "outputs": [
    {
     "data": {
      "text/plain": [
       "[Text(0, 0.5, 'No'), Text(0, 1.5, 'Yes')]"
      ]
     },
     "execution_count": 155,
     "metadata": {},
     "output_type": "execute_result"
    },
    {
     "data": {
      "image/png": "[encoded data removed]",
      "text/plain": [
       "<Figure size 432x288 with 2 Axes>"
      ]
     },
     "metadata": {
      "needs_background": "light"
     },
     "output_type": "display_data"
    }
   ],
   "source": [
    "from sklearn.metrics import confusion_matrix\n",
    "cm = confusion_matrix(y_test, y_pred)\n",
    "ax = plt.subplot()\n",
    "sns.heatmap(cm, annot = True, ax=ax)\n",
    "\n",
    "ax.set_xlabel('predicted')\n",
    "ax.set_ylabel('actual')\n",
    "ax.set_title('confusion matrix')\n",
    "ax.xaxis.set_ticklabels(['No', 'Yes'])\n",
    "ax.yaxis.set_ticklabels(['No', 'Yes'])"
   ]
  },
  {
   "cell_type": "code",
   "execution_count": 24,
   "metadata": {},
   "outputs": [],
   "source": [
    "import pickle\n",
    "filename = './rev01/svm_rev00.sav'\n",
    "pickle.dump(clf, open(filename, 'wb'))"
   ]
  },
  {
   "cell_type": "code",
   "execution_count": 25,
   "metadata": {},
   "outputs": [],
   "source": [
    "# load the model from disk\n",
    "loaded_model = pickle.load(open(filename, 'rb'))"
   ]
  },
  {
   "cell_type": "code",
   "execution_count": 26,
   "metadata": {},
   "outputs": [
    {
     "name": "stdout",
     "output_type": "stream",
     "text": [
      "0.8345864661654135\n"
     ]
    }
   ],
   "source": [
    "result = loaded_model.score(X_test, y_test)\n",
    "print(result)"
   ]
  }
 ],
 "metadata": {
  "kernelspec": {
   "display_name": "djangoapp",
   "language": "python",
   "name": "djangoapp"
  },
  "language_info": {
   "codemirror_mode": {
    "name": "ipython",
    "version": 3
   },
   "file_extension": ".py",
   "mimetype": "text/x-python",
   "name": "python",
   "nbconvert_exporter": "python",
   "pygments_lexer": "ipython3",
   "version": "3.8.3"
  }
 },
 "nbformat": 4,
 "nbformat_minor": 4
}
